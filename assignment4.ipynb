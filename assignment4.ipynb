{
 "cells": [
  {
   "cell_type": "code",
   "execution_count": null,
   "id": "1cd49e4f",
   "metadata": {},
   "outputs": [],
   "source": [
    "#1. What exactly is []?\n",
    "    This is empty list value , which is a list value that contains no items."
   ]
  },
  {
   "cell_type": "code",
   "execution_count": null,
   "id": "1e77f8fc",
   "metadata": {},
   "outputs": [],
   "source": [
    "#2. In a list of values stored in a variable called spam, how would you assign the value 'hello' as the\n",
    "third value? (Assume [2, 4, 6, 8, 10] are in spam.)"
   ]
  },
  {
   "cell_type": "code",
   "execution_count": 3,
   "id": "439891ef",
   "metadata": {},
   "outputs": [
    {
     "name": "stdout",
     "output_type": "stream",
     "text": [
      "[2, 4, 'hello', 8, 10]\n"
     ]
    }
   ],
   "source": [
    "spam=[2,4,6,8,10]\n",
    "spam[2]='hello'\n",
    "print(spam)"
   ]
  },
  {
   "cell_type": "code",
   "execution_count": null,
   "id": "5a041d8f",
   "metadata": {},
   "outputs": [],
   "source": [
    "#Let's pretend the spam includes the list ['a','b','c','d'] for the next three queries."
   ]
  },
  {
   "cell_type": "code",
   "execution_count": null,
   "id": "2578280c",
   "metadata": {},
   "outputs": [],
   "source": [
    "#3. What is the value of spam[int(int('3'* 2) / 11)]?\n",
    "\n",
    "\n",
    "    'd'\n",
    "    \n",
    "    "
   ]
  },
  {
   "cell_type": "code",
   "execution_count": 7,
   "id": "2c7e37a8",
   "metadata": {},
   "outputs": [],
   "source": [
    "spam=['a','b','c','d']\n"
   ]
  },
  {
   "cell_type": "code",
   "execution_count": null,
   "id": "e6779b8b",
   "metadata": {},
   "outputs": [],
   "source": [
    "#4. What is the value of spam[-1]?\n",
    "    \n",
    "    'd'"
   ]
  },
  {
   "cell_type": "code",
   "execution_count": null,
   "id": "98512359",
   "metadata": {},
   "outputs": [],
   "source": [
    "#5. What is the value of spam[:2]?\n",
    "\n",
    "    ['a','b']"
   ]
  },
  {
   "cell_type": "code",
   "execution_count": null,
   "id": "7e7561fb",
   "metadata": {},
   "outputs": [],
   "source": [
    "#Let's pretend bacon has the list [3.14, 'cat', 11,'cat', True] for the next three questions."
   ]
  },
  {
   "cell_type": "code",
   "execution_count": 20,
   "id": "4bf265c2",
   "metadata": {},
   "outputs": [],
   "source": [
    "bacon=[3.14, 'cat', 11,'cat', True]"
   ]
  },
  {
   "cell_type": "code",
   "execution_count": null,
   "id": "3957b6b4",
   "metadata": {},
   "outputs": [],
   "source": [
    "#6. What is the value of bacon.index('cat')?\n",
    "\n",
    "    1"
   ]
  },
  {
   "cell_type": "code",
   "execution_count": null,
   "id": "b50aeb11",
   "metadata": {},
   "outputs": [],
   "source": [
    "#7. How does bacon.append(99) change the look of the list value in bacon?\n",
    "\n",
    "    The value 99 is added to the end of list.Then it become as bellow\n",
    "    \n",
    "    [3.14, 'cat', 11, 'cat', True, 99]"
   ]
  },
  {
   "cell_type": "code",
   "execution_count": null,
   "id": "aca97cf6",
   "metadata": {},
   "outputs": [],
   "source": [
    "#8. How does bacon.remove('cat') change the look of the list in bacon?\n",
    "\n",
    "    [3.14, 11, 'cat', True]\n",
    "    \n",
    "    we know our previous list contain two 'cat'. After run bacon.remove('cat') the very first 'cat' is removed.if we \n",
    "    run again this code then the other 'cat' value will be remove.\n",
    "    "
   ]
  },
  {
   "cell_type": "code",
   "execution_count": null,
   "id": "5cc74ae2",
   "metadata": {},
   "outputs": [],
   "source": [
    "#9. What are the list concatenation and list replication operators?\n",
    "\n",
    "    In python programming ,operator for list concatenation is +  and  for list replication is *"
   ]
  },
  {
   "cell_type": "code",
   "execution_count": null,
   "id": "e71645d6",
   "metadata": {},
   "outputs": [],
   "source": [
    "#10. What is difference between the list methods append() and insert()?\n",
    "\n",
    "    The only difference berween append() and insert() is that insert function allows us to add a specific element at\n",
    "    a specified index of the list unlike append() where we can add the element only at end of the list."
   ]
  },
  {
   "cell_type": "code",
   "execution_count": null,
   "id": "e5213c1d",
   "metadata": {},
   "outputs": [],
   "source": [
    "#11. What are the two methods for removing items from a list?\n",
    "\n",
    "    The remove() method removes the first matching element (which is passed as an argument)from the list .The pop()\n",
    "    method removes an element at a given index , and will also retuns the removed item . You can also use the del \n",
    "    keyword in python  to remove an element or slice from a list."
   ]
  },
  {
   "cell_type": "code",
   "execution_count": null,
   "id": "9695e566",
   "metadata": {},
   "outputs": [],
   "source": [
    "#12. Describe how list values and string values are identical.\n",
    "\n",
    "    The values that make up a list are called it's elements . Lists are similar to strings, which are ordered \n",
    "    collections of characters, except that the elements of a list can have any type and for any one list , the items\n",
    "    can be different types.The difference between  them are that , lists are mutable but strings are immutable .\n",
    "    "
   ]
  },
  {
   "cell_type": "code",
   "execution_count": null,
   "id": "f436ab9e",
   "metadata": {},
   "outputs": [],
   "source": [
    "#13. What's the difference between tuples and lists?\n",
    "\n",
    "    List                                    Tuple\n",
    "    \n",
    "    lists are mutable                       Tuple are immutable\n",
    "    \n",
    "    Implication of iteration is             Implication of iteration is comparatively faster\n",
    "    time cosuming\n",
    "    \n",
    "    list consume more memory.               tuple consume less memory compaired to list\n",
    "    \n",
    "    list is better performing               tuple data type is appropriate for accessing elements\n",
    "    operation , such as insertion \n",
    "    and deletion\n",
    "    \n",
    "    list has several built in               tuple doesn't have must built in methods\n",
    "    methods\n",
    "    \n",
    "    \n",
    "    \n",
    "    "
   ]
  },
  {
   "cell_type": "code",
   "execution_count": null,
   "id": "8bb219a5",
   "metadata": {},
   "outputs": [],
   "source": [
    "#14. How do you type a tuple value that only contains the integer 42?\n",
    "\n",
    "    (42,)\n",
    "    \n",
    "    the trailling , is mandatory"
   ]
  },
  {
   "cell_type": "code",
   "execution_count": null,
   "id": "9a62c8ce",
   "metadata": {},
   "outputs": [],
   "source": [
    "#15. How do you get a list value's tuple form? How do you get a tuple value's list form?\n",
    "\n",
    "    By using tuple() method to convert a list value to tuple form . \n",
    "    \n",
    "    By using list() method to convert a tuple value to list form."
   ]
  },
  {
   "cell_type": "code",
   "execution_count": null,
   "id": "00b323fb",
   "metadata": {},
   "outputs": [],
   "source": [
    "#16. Variables that \"contain\" list values are not necessarily lists themselves. Instead, what do they contain?\n",
    "    Variables will contain references to list values rather than list values themselves. But for strings and \n",
    "    integer values, variables simply contain the string or integer value."
   ]
  },
  {
   "cell_type": "code",
   "execution_count": null,
   "id": "e014e008",
   "metadata": {},
   "outputs": [],
   "source": [
    "#17. How do you distinguish between copy.copy() and copy.deepcopy()?\n",
    "\n",
    "    copy() create reference to original object. If you change copied object - you change the original object. \n",
    "    . deepcopy() creates new object and does real copying of original object to new one. Changing\n",
    "    new deepcopied object doesn't affect original object.\n",
    "    In case of shallow copy, a reference of object is copied in other object. It means that any changes made to a \n",
    "    copy of object do reflect in the original object. In python, this is implemented using “copy()” function. "
   ]
  }
 ],
 "metadata": {
  "kernelspec": {
   "display_name": "Python 3 (ipykernel)",
   "language": "python",
   "name": "python3"
  },
  "language_info": {
   "codemirror_mode": {
    "name": "ipython",
    "version": 3
   },
   "file_extension": ".py",
   "mimetype": "text/x-python",
   "name": "python",
   "nbconvert_exporter": "python",
   "pygments_lexer": "ipython3",
   "version": "3.9.7"
  }
 },
 "nbformat": 4,
 "nbformat_minor": 5
}
